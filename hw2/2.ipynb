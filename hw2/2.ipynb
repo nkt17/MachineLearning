{
 "cells": [
  {
   "cell_type": "markdown",
   "metadata": {},
   "source": [
    "## Класс дерева:"
   ]
  },
  {
   "cell_type": "code",
   "execution_count": 49,
   "metadata": {
    "collapsed": false
   },
   "outputs": [],
   "source": [
    "import numpy as np\n",
    "\n",
    "def MSE(info):\n",
    "    average = np.mean(info)\n",
    "    a = 0\n",
    "    for i in info:\n",
    "        a = a +  (i - average) ** 2\n",
    "    return a\n",
    "\n",
    "class Item:\n",
    "    def __init__(self, data):\n",
    "        self.data = data\n",
    "        self.children = []\n",
    "    def add_subitem(self, obj):\n",
    "        self.children.append(obj)      \n",
    "class DecisionTree:\n",
    "    def __init__(self,  min_samples_in_leaf = 3, min_samples_for_split = 3):\n",
    "        self.item = Item(0)\n",
    "        self.min_samples_in_leaf = min_samples_in_leaf\n",
    "        self.min_samples_for_split = min_samples_for_split\n",
    "\n",
    "    def split(self, data, targets):\n",
    "        def quality(feature, t):\n",
    "            r = len(data)\n",
    "            to_leaf1 = [data[i] for i in range(0, r) \n",
    "                        if data[i][feature] < t]\n",
    "            targets_to_leaf1 = [targets[i] for i in range(0, r) \n",
    "                        if  data[i][feature] < t]\n",
    "            to_leaf2 = [data[i] for i in range(0, r)\n",
    "                        if data[i][feature] >= t]\n",
    "            targets_to_leaf2 = [targets[i] for i in range(0, r) \n",
    "                        if data[i][feature] >= t]\n",
    "            if len(to_leaf1) == len(data) or len(to_leaf1) == 0: return -1\n",
    "            u = len(to_leaf1) * MSE(targets_to_leaf1) + len(to_leaf2)  * MSE(targets_to_leaf2)\n",
    "            return u\n",
    "        def answer_in_leaf(leaf):\n",
    "            return np.mean(leaf)\n",
    "        \n",
    "        if len(data) < self.min_samples_for_split:\n",
    "            return answer_in_leaf(targets)\n",
    "        length = len(data[0])\n",
    "        max_accuracy = -1\n",
    "        \n",
    "        for f in range(0, length):\n",
    "            for w in np.linspace(min([sample[f] for sample in data]), max([sample[f] for sample in data]), 300):\n",
    "                b = quality(f, w)\n",
    "                if b > 0:\n",
    "                    max_ = b\n",
    "                    max_f = f\n",
    "                    max_threshold = w\n",
    "                    break                  \n",
    "        if max_accuracy == -1:\n",
    "            return answer_in_leaf(targets)\n",
    "        for f in range(0, length):\n",
    "            for w in np.linspace(min([sample[f] for sample in data]), max([sample[f] for sample in data]), 300):\n",
    "                b = quality(w, f)\n",
    "                if b < max_accuracy and b!= -1:\n",
    "                    max_ = b\n",
    "                    max_f = f\n",
    "                    max_threshold = w\n",
    "        l = len(data)\n",
    "        to_leaf1 = [data[i] for i in range(0, l) if\n",
    "                      data[i][max_f] < max_threshold]\n",
    "        targets_to_leaf1 = [targets[i] for i in range(0, l) if\n",
    "                    data[i][max_f] < max_threshold]\n",
    "        to_leaf2 = [data[i] for i in range(0, l) if\n",
    "                    data[i][max_f] >= max_threshold]\n",
    "        targets_to_leaf2 = [targets[i] for i in range(0, l) if\n",
    "                    data[i][max_af] >= max_threshold]\n",
    "        if (len(targets) >= self.min_samples_for_split and\n",
    "            len(to_leaf1) >= self.min_samples_in_leaf and len(to_leaf2) >= self.min_samples_in_leaf):\n",
    "            item = Item([max_f, max_threshold])\n",
    "            item1 = self.split(to_leaf1,targets_to_leaf1)\n",
    "            item.add_subitem(leaf_item1)\n",
    "            item2 = self.split(to_leaf2, targets_to_leaf2)\n",
    "            item.add_subitem(leaf_item2)\n",
    "            return item\n",
    "        else:\n",
    "            return answer_in_leaf(targets)\n",
    "\n",
    "    def fit(self, data, targets):\n",
    "        self.item = self.split(data, targets)\n",
    "    def predict(self, data):\n",
    "        targets = [0 for i in range(0,len(data))]  \n",
    "        i = 0\n",
    "        for sample in data:\n",
    "            item = self.item\n",
    "            while type(item) != np.float64 and type(item) != np.int64:\n",
    "                if sample[item.data[0]] < item.data[1]:\n",
    "                    item = item.children[0]\n",
    "                else:\n",
    "                    item = item.children[1]\n",
    "            targets[i] = item\n",
    "            i += 1\n",
    "        return targets"
   ]
  },
  {
   "cell_type": "code",
   "execution_count": 50,
   "metadata": {
    "collapsed": false
   },
   "outputs": [
    {
     "name": "stdout",
     "output_type": "stream",
     "text": [
      "test_predictions\n",
      "[22.587692307692308, 22.587692307692308, 22.587692307692308, 22.587692307692308, 22.587692307692308, 22.587692307692308, 22.587692307692308, 22.587692307692308, 22.587692307692308, 22.587692307692308, 22.587692307692308, 22.587692307692308, 22.587692307692308, 22.587692307692308, 22.587692307692308, 22.587692307692308, 22.587692307692308, 22.587692307692308, 22.587692307692308, 22.587692307692308, 22.587692307692308, 22.587692307692308, 22.587692307692308, 22.587692307692308, 22.587692307692308, 22.587692307692308, 22.587692307692308, 22.587692307692308, 22.587692307692308, 22.587692307692308, 22.587692307692308, 22.587692307692308, 22.587692307692308, 22.587692307692308, 22.587692307692308, 22.587692307692308, 22.587692307692308, 22.587692307692308, 22.587692307692308, 22.587692307692308, 22.587692307692308, 22.587692307692308, 22.587692307692308, 22.587692307692308, 22.587692307692308, 22.587692307692308, 22.587692307692308, 22.587692307692308, 22.587692307692308, 22.587692307692308, 22.587692307692308]\n",
      "test_target\n",
      "[ 29.   20.6  24.8  20.   29.   18.1  14.4  17.9  19.6  14.1  24.7  14.6\n",
      "  10.2  29.4  17.5  27.5  23.1  50.   15.6  16.1  50.   19.1  18.9  37.6\n",
      "  24.3  11.8  20.6  14.5  19.6  36.4  20.6  21.9  17.8  23.4  17.5  34.6\n",
      "  21.2  33.   21.7  22.5  12.5  25.1  24.8   7.5  26.6  19.1  22.6  19.\n",
      "  23.4   7.   13.4]\n",
      "mean error\n",
      "6.33067873303\n",
      "absolutely mean error\n",
      "3.23039215686\n"
     ]
    }
   ],
   "source": [
    "from sklearn import tree\n",
    "from sklearn.cross_validation import train_test_split\n",
    "from sklearn.metrics import mean_absolute_error, classification_report\n",
    "from sklearn.datasets import load_boston\n",
    "from sklearn.model_selection import train_test_split\n",
    "from sklearn.metrics import accuracy_score\n",
    "data = load_boston().data\n",
    "target = load_boston().target\n",
    "train_data, test_data, train_target, test_target = train_test_split(data, target, test_size = 0.1) \n",
    "my_tree = DecisionTree()\n",
    "my_tree.fit(train_data, train_target)\n",
    "test_predictions = my_tree.predict(test_data)\n",
    "print (\"test_predictions\")\n",
    "print test_predictions\n",
    "print (\"test_target\")\n",
    "print test_target\n",
    "print (\"mean error\")\n",
    "print (abs(np.array(test_target) - np.array(test_predictions))).mean()\n",
    "model = tree.DecisionTreeRegressor(max_depth = 15)\n",
    "model.fit(train_data, train_target)\n",
    "test_predictions = model.predict(test_data)\n",
    "print(\"absolutely mean error\")\n",
    "print mean_absolute_error(test_target, test_predictions)"
   ]
  },
  {
   "cell_type": "code",
   "execution_count": 25,
   "metadata": {
    "collapsed": false
   },
   "outputs": [],
   "source": [
    "  "
   ]
  },
  {
   "cell_type": "code",
   "execution_count": 26,
   "metadata": {
    "collapsed": false
   },
   "outputs": [],
   "source": []
  },
  {
   "cell_type": "code",
   "execution_count": null,
   "metadata": {
    "collapsed": true
   },
   "outputs": [],
   "source": []
  },
  {
   "cell_type": "code",
   "execution_count": null,
   "metadata": {
    "collapsed": true
   },
   "outputs": [],
   "source": []
  }
 ],
 "metadata": {
  "kernelspec": {
   "display_name": "Python 2",
   "language": "python",
   "name": "python2"
  },
  "language_info": {
   "codemirror_mode": {
    "name": "ipython",
    "version": 2
   },
   "file_extension": ".py",
   "mimetype": "text/x-python",
   "name": "python",
   "nbconvert_exporter": "python",
   "pygments_lexer": "ipython2",
   "version": "2.7.13"
  }
 },
 "nbformat": 4,
 "nbformat_minor": 2
}
