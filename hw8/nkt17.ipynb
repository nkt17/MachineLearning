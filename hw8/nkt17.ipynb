{
 "cells": [
  {
   "cell_type": "markdown",
   "metadata": {},
   "source": [
    "<span style=\"font-size: 14pt\">Домашнее задание №8 </span>\n",
    "\n",
    "<span style=\"color: red; font-size: 14pt\">Deadline: 20.05.2017 23:59:59</span>\n",
    "\n",
    "<span style=\"font-size: 10pt\">ФИВТ, АПТ, Курс по машинному обучению, Весна 2017, Модуль Unspervised Learning, </span>\n",
    "\n",
    "<span style=\"color:blue; font-size: 10pt\">Alexey Romanenko, </span>\n",
    "<span style=\"color:blue; font-size: 10pt; font-family: 'Verdana'\">alexromsput@gmail.com</span>\n"
   ]
  },
  {
   "cell_type": "markdown",
   "metadata": {},
   "source": [
    "<h1 align=\"center\">Organization Info</h1> "
   ]
  },
  {
   "cell_type": "markdown",
   "metadata": {},
   "source": [
    "**Дополнительный материал для выполнения дз**:\n",
    "- Воронцов К. В. Математические методы обучения по прецедентам. 2012. http://www.machinelearning.ru/wiki/images/6/6d/Voron-ML-1.pdf (разделы 5.2 и 7.1)\n",
    "- Hastie T., Tibshirani R., Friedman J. The Elements of Statistical Learning. Springer: Data Mining, Inference, and Prediction.  — 2nd ed. — Springer-Verlag. 2009. — 746 p.http://statweb.stanford.edu/~tibs/ElemStatLearn/printings/ESLII_print10.pdf (глава 14)\n",
    "\n",
    "\n",
    "\n",
    "**Оформление дз**: \n",
    "- Присылайте выполненное задание на почту ``ml.course.mipt@gmail.com``\n",
    "- Укажите тему письма в следующем формате ``ML2017_fall <номер_группы> <фамилия>``, к примеру -- ``ML2017_fall 496 ivanov``\n",
    "- Выполненное дз сохраните в файл ``<фамилия>_<группа>_task<номер задания>.ipnb``, к примеру -- ``ML2017_496_task1.ipnb``\n",
    "\n",
    "**Вопросы**:\n",
    "- Присылайте вопросы на почту ``ml.course.mipt@gmail.com``\n",
    "- Укажите тему письма в следующем формате ``ML2016_fall Question <Содержание вопроса>``\n",
    "\n",
    "--------\n",
    "- **PS1**: Используются автоматические фильтры, и просто не найдем ваше дз, если вы не аккуратно его подпишите.\n",
    "- **PS2**: Дедлайн жесткий, в том числе помтоу что это ДЗ последнее в курсе. "
   ]
  },
  {
   "cell_type": "markdown",
   "metadata": {},
   "source": [
    "<h1 align=\"center\">Контрольные вопросы (0 % - для самоконтроля) </h1> "
   ]
  },
  {
   "cell_type": "markdown",
   "metadata": {},
   "source": [
    "Ответе на вопросы своими словами (загугленный материал надо пересказать), ответ обоснуйте (напишите и ОБЪЯСНИТЕ формулки если потребуется), если не выходит, то вернитесь к лекции дополнительным материалам:\n",
    "\n",
    "**Вопрос 1**: В чём заключается проблема мультиколлинеарности?\n",
    "\n",
    "**Вопрос 2**: Какие проблемы при обучении алгоритмов возникают из-за большой разамерности пространства признаков?\n",
    "\n",
    "**Вопрос 3**: В чем суть проклятия размерности?\n",
    "\n",
    "** Вопрос 4**: Какая связь между решением задачи PCA и SVD-разложение матрицы регрессии?\n",
    "\n",
    "** Вопрос 5**: Почему в tSNE расстояние между парамми объектов измеряется \"по-стьюденту\" и как это помогает решить проблему \"скрученности\" (crowding problem)?\n",
    "\n",
    "**Вопрос 6**: На какой идее базируются алгоритмы аггломеративной кластеризации? Напишите формулу Ланса-Вильма\n",
    "\n",
    "**Вопрос 7**: Какие два шага выделяют в алгоритме кластеризации k-means?\n",
    "\n",
    "**Вопрос 8**: В чём отличия (основные упрощения) k-means от EM-алгоритма кластеризации?\n",
    "\n",
    "** Вопрос 9 **Какой принцип работы графовых алгоритмов кластеризации?\n",
    "\n",
    "** Вопрос 10 **  В чем некорректность постановки задачи кластеризации?\n",
    "\n",
    "-----------\n",
    "PS: Если проверяющий не понял ответ на большинство вопросов, то будет пичалька. Пишите так, чтобы можно было разобраться. "
   ]
  },
  {
   "cell_type": "markdown",
   "metadata": {
    "collapsed": true
   },
   "source": [
    "<h1 align=\"center\">Вопросы по теории (30%) </h1> "
   ]
  },
  {
   "cell_type": "markdown",
   "metadata": {},
   "source": [
    "** Задача 1 ** \n",
    "Ответьте на вопросы:\n",
    "\n",
    " 1) Как можно не прибегая к визуализации понять, что кластерная структура у данного облака точек отсутствует?\n",
    " \n",
    " Использовать алгоритм кластеризации (запустить k-means несколько раз при этом увеличивать каждый раз количество кластеров на единицу.) Если не будет заметного улучшения значения функционала качества, то кластерная структура отсутствует.\n",
    " \n",
    " 2) Какие из алгоритмов кластеризации могут выделять кластеры с ленточной структурой? \n",
    " \n",
    " Графовые алгоритмы, DBSCAN, иерархический алгоритм метода ближнего соседа хорошо подходит для выделения кластеров ленточной формы.\n",
    " \n",
    " 3) Какие алгоритмы кластеризации чувствительны к шуму и перемычкам?\n",
    " \n",
    " Графовые методы кластеризации, алгоритм K-средних.\n",
    " \n",
    " 4) Каким образом приближают «центр кластера» в нелинейных пространствах?\n",
    " \n",
    " Центральный объект обучающей выборки, для которого среднее расстояние до других объектов кластера минимально. \n",
    " \n",
    " 5) Каким образом можно определять число кластеров? \n",
    " \n",
    " Использовать дендрограммы. На горизонтальной оси находится интервал максимальной длины |Rt+1 − Rt|, и в качестве результирующей кластеризации выдаётся множество кластеров Ct. Число кластеров равно N = l − t + 1.\n",
    " \n",
    "** Задача 2 **\n",
    "Даны пять точек на числовой оси $X = (1; 5; 7; 8; 8)$, число кластеров равно 2. Рассчитайте ответ алгоритма  K-means (финальные центры кластеров), если начальные центры кластеров c1 = 1, c2 = 10.\n",
    "\n",
    "1). с1 = 1, c2 = 10, A1 = {1, 5}, A2 = {7, 8, 8}.\n",
    "2). с1 = 3, с2 = 7.66, \n",
    "А1 = {1, 5}, A2 = {7, 8, 8}. Далее центры пересчитываться не будут. Итого: c1 = 3 , c2 = 7,6(6)\n",
    "\n",
    "** Задача 3 **\n",
    "Докажите, что the k-means всегда сходится.\n",
    "\n",
    "k-means пытается минимизировать сумму квадратов расстояний между каждой точкой $x_i$ и центром кластера $y_j$. Эта функция k-means уменьшается каждый раз, когда есть изменения в присвоении или шагах измерения, и сближение гарантировано за конечное число итераций.\n",
    "\n",
    "** Задача 4 **\n",
    "Для сжатия размерности пространства алгоритм PCA применяется датасету с количеством признаков $D = 100$. Наблюдается следующий спектр собственных значений матрицы объектов-признаков. \n",
    "<img src=\"PCA_lambda.png\" width=\"600\">\n",
    "Ответье на вопросы\n",
    "\n",
    "* 1) Высокая ли эффективная размерность пространства признаков (intrinsic dimensionality) (насколько она близка к 100)?\n",
    "* 2) Можно ли перевести датасет с помощью PCA в пространство меньшей размерности с минимальными потерями точности? Если да, то чему примерно будет равна размернось\n",
    "\n",
    " 1). Да.\n",
    " 2). Перевести датасет с помощью PCA в пространство меньшей размерности с минимальными потерями точности не получится т. к. график E(m) будет очень плавный, без резких перепадов. \n",
    "\n",
    "\n"
   ]
  },
  {
   "cell_type": "markdown",
   "metadata": {},
   "source": [
    "<h2 align=\"center\">Практическое задание 1 (30%) </h2>\n",
    "Реализуйте PCA"
   ]
  },
  {
   "cell_type": "code",
   "execution_count": 1,
   "metadata": {
    "collapsed": false
   },
   "outputs": [],
   "source": [
    "import numpy as np\n",
    "import pylab as plt\n",
    "'''\n",
    "Performs the Principal Coponent analysis of the Matrix F\n",
    "Matrix must be n * l dimensions\n",
    "where n is # features\n",
    "l is # samples\n",
    "'''\n",
    "from scipy import diag\n",
    "\n",
    "def PCA(F, varRetained = 0.95, show = False):\n",
    "    # Input\n",
    "    #     F - initaial matrix \n",
    "    # Compute Covariance Matrix Sigma\n",
    "    # Input\n",
    "    (n,l) = F.shape\n",
    "    Sigma = 1.0 / l * np.dot(F, np.transpose(F))\n",
    "    # Compute eigenvectors and eigenvalues of Sigma by SVD\n",
    "    # U, V - matrix, d - array: Sigma = U * np.diag(d) * V\n",
    "    U, d, V = np.linalg.svd((Sigma), full_matrices=False)\n",
    "    #U, d, V = посчитать SVD матрицы Sigma\n",
    "    dTot = np.sum(d)\n",
    "    var_i = np.array([np.sum(d[: i + 1]) / dTot * 100.0 for i in range(n)])\n",
    "    # m = вычислите необходимое число главных компонент\n",
    "    m = n \n",
    "    for i in range(n):\n",
    "        if(var_i[i] >= varRetained * 100):\n",
    "            m = i + 1\n",
    "            break\n",
    "            \n",
    "    precise = (np.sum(d[:m]) / dTot * 100.0)\n",
    "    print '%.2f %% variance retained in %d dimensions' % (precise, m)\n",
    "    # plot the variance plot\n",
    "    if show:\n",
    "        plt.plot(var_i)\n",
    "        plt.xlabel('Number of Features')\n",
    "        plt.ylabel(' Percentage Variance retained')\n",
    "        plt.title('PCA $\\% \\sigma^2 $ vs # features')\n",
    "        plt.show()\n",
    "\n",
    "    j = np.argsort(-d)\n",
    "    v = np.matrix(V.T[j[:m]])\n",
    "    # compute the reduced dimensional features by projection\n",
    "    #U_reduced = только m главных компонент\n",
    "    U_reduced = v.T \n",
    "    #G = вычислить матрицу в преобразованном пространстве\n",
    "    G = np.dot(F.T, U_reduced)\n",
    "    return G, U_reduced"
   ]
  },
  {
   "cell_type": "code",
   "execution_count": 2,
   "metadata": {
    "collapsed": false
   },
   "outputs": [
    {
     "name": "stdout",
     "output_type": "stream",
     "text": [
      "(1797L, 64L)\n"
     ]
    }
   ],
   "source": [
    "# Примените алгоритм к данным MNIST\n",
    "from sklearn.model_selection import train_test_split\n",
    "\n",
    "from sklearn.datasets import load_digits\n",
    "X, y = load_digits(return_X_y=True)\n",
    "X_train, X_test, Y_train, Y_test = train_test_split(X, y, train_size=0.7)\n",
    "print X.shape"
   ]
  },
  {
   "cell_type": "code",
   "execution_count": 3,
   "metadata": {
    "collapsed": false
   },
   "outputs": [
    {
     "name": "stdout",
     "output_type": "stream",
     "text": [
      "Performing PCA - Principal Component Analysis\n",
      "95.25 % variance retained in 16 dimensions\n"
     ]
    },
    {
     "data": {
      "image/png": "[encoded data removed]",
      "text/plain": [
       "<matplotlib.figure.Figure at 0x953ad30>"
      ]
     },
     "metadata": {},
     "output_type": "display_data"
    }
   ],
   "source": [
    "#################################################################\n",
    "# PCA of training set\n",
    "print 'Performing PCA - Principal Component Analysis'\n",
    "\n",
    "Z, U_reduced = PCA(X.T, varRetained = 0.95, show = True)"
   ]
  },
  {
   "cell_type": "code",
   "execution_count": 4,
   "metadata": {
    "collapsed": false
   },
   "outputs": [
    {
     "name": "stdout",
     "output_type": "stream",
     "text": [
      "[[  0.00000000e+00  -4.12262764e+00  -4.14452856e+00 ...,   8.96452321e+00\n",
      "   -1.05451907e+00   3.87832396e+00]\n",
      " [  1.00000000e+01  -9.14308288e+00   2.70430933e+00 ...,  -1.08464694e-02\n",
      "    1.97774069e+00  -3.68689639e+00]\n",
      " [  1.60000000e+01  -1.14155172e+01  -3.50320421e+00 ...,   4.39337199e+00\n",
      "    5.97688068e-01   2.47272053e-01]\n",
      " ..., \n",
      " [  6.00000000e+00  -6.80163079e+00   4.67505995e-01 ...,   3.12804013e+00\n",
      "   -3.26128021e+00   1.90124942e+00]\n",
      " [  1.20000000e+01  -5.68822182e+00  -9.01156327e+00 ...,   8.72666154e+00\n",
      "   -1.64759809e+00  -4.31787683e+00]\n",
      " [  1.20000000e+01  -5.65268685e+00  -2.37711035e+00 ...,   7.41659784e+00\n",
      "   -3.31361018e+00   2.41750126e+00]]\n",
      "[[  0.00000000e+00  -5.77192878e-03  -1.00696020e-01 ...,  -1.59441471e-01\n",
      "   -3.48630321e-02  -1.87173744e-03]\n",
      " [  0.00000000e+00  -1.73619371e-02  -2.24200800e-01 ...,  -2.18765265e-01\n",
      "   -1.49123539e-02   4.49594228e-03]\n",
      " [  0.00000000e+00   9.85740003e-03   4.48071690e-02 ...,   4.75889085e-02\n",
      "    5.96219458e-02   3.53751778e-03]\n",
      " ..., \n",
      " [  1.00000000e+00   0.00000000e+00   0.00000000e+00 ...,   0.00000000e+00\n",
      "    0.00000000e+00   0.00000000e+00]\n",
      " [  0.00000000e+00   0.00000000e+00  -1.90612440e-15 ...,   3.56297323e-17\n",
      "    9.11595906e-16  -1.39102324e-15]\n",
      " [  0.00000000e+00   0.00000000e+00   9.86100822e-17 ...,   1.76005707e-16\n",
      "   -2.84912495e-16   9.89053869e-16]]\n"
     ]
    }
   ],
   "source": [
    "print Z\n",
    "print U_reduced"
   ]
  },
  {
   "cell_type": "markdown",
   "metadata": {},
   "source": [
    "<h1 align=\"center\"><h2 align=\"center\">Практическое задание 2 (40%) </h2> </h1>"
   ]
  },
  {
   "cell_type": "markdown",
   "metadata": {},
   "source": [
    "<h2 align=\"left\">Изучение алгоритмов кластеризации на разных выборках</h2>\n",
    "\n",
    "### Кластеризация цифр с помощью dbscan\n",
    "На данных из sklearn.datasets.load_digits примените алгоритмы кластеризации (знания о метках классов при кластеризации использовать нельзя):\n",
    " - <a href='http://scikit-learn.org/stable/modules/generated/sklearn.cluster.DBSCAN.html#sklearn.cluster.DBSCAN'>dbscan </a> \n",
    " запускайте при различных параметрах eps и minsamples, для всех экспериментов можете выбрать одну метрику (вспомните семинар про  метрические алгоритмы);\n",
    " - Используя метки классов цифр, оцените качество различных кластеризаций при помощи Adjusted Mutual Information и Adjusted Rand Index. \n",
    " - визуалируйте изображения тех цифр, которые соответствуют core_points;\n",
    " - визуалируйте изображения тех цифр, которые соответствуют выбросам;\n",
    " - сделайте выводы и применимости алгоритмов.\n",
    "\n",
    "### Уменьшение палитры изображения\n",
    " - для <a href=\"https://thumbs.dreamstime.com/x/two-lorikeet-birds-2293918.jpg\"> картинки </a> \n",
    "нужно уменьшить число цветов в палитре; для этого нужно выделить кластеры в пространстве RGB, объекты соответствуют пикселам изображения; после выделения кластеров,\n",
    "все пикселы, отнесенные в один кластер, заполняются одним цветом; этот цвет может быть центроидом соответствующего кластера, медианным цветом по кластеру. \n",
    " - Попробуйте различные алгоритмы кластеризации:\n",
    "        -- KMeans\n",
    "        -- MeanShift\n",
    "        -- AgglomerativeClustering\n",
    "   Рассмотрите число кластеров K = 2, 3, 10, 20\n",
    " - Для различных кластеризаций оцените и сравните потери от уменьшения цветов при помощи\n",
    "метрики <a href=\"http://scikit-image.org/docs/dev/api/skimage.measure.html\"> SSIM</a>. Какой способ оказался лучшим?"
   ]
  },
  {
   "cell_type": "markdown",
   "metadata": {},
   "source": [
    "### Кластеризация цифр с помощью dbscan"
   ]
  },
  {
   "cell_type": "code",
   "execution_count": 7,
   "metadata": {
    "collapsed": true
   },
   "outputs": [],
   "source": [
    "from sklearn import metrics\n",
    "from sklearn.metrics.cluster import adjusted_mutual_info_score, adjusted_rand_score\n",
    "from sklearn.cluster import DBSCAN\n",
    "from sklearn.datasets import load_digits\n",
    "%matplotlib inline\n",
    "\n",
    "digits = load_digits()\n",
    "X = digits.data \n",
    "y = digits.target"
   ]
  },
  {
   "cell_type": "code",
   "execution_count": 20,
   "metadata": {
    "collapsed": false
   },
   "outputs": [
    {
     "data": {
      "image/png": "[encoded data removed]",
      "text/plain": [
       "<matplotlib.figure.Figure at 0x4308588>"
      ]
     },
     "metadata": {},
     "output_type": "display_data"
    }
   ],
   "source": [
    "def res(eps, minsamples):\n",
    "    db = DBSCAN(eps, minsamples)\n",
    "    preds = db.fit_predict(X)\n",
    "    return (adjusted_mutual_info_score(y, preds), adjusted_rand_score(y, preds))\n",
    "\n",
    "arr_eps = np.arange(1, 35)\n",
    "results = []\n",
    "\n",
    "for epsilon in arr_eps:\n",
    "    results.append(res(epsilon, 15))\n",
    "results = np.array(results).T\n",
    "\n",
    "plt.plot(arr_eps, results[0], label='AMIS')\n",
    "plt.plot(arr_eps, results[1], label='ARS')\n",
    "plt.xlabel('epsilon')\n",
    "plt.ylabel('accuracy')\n",
    "plt.legend()\n",
    "plt.show()"
   ]
  },
  {
   "cell_type": "markdown",
   "metadata": {},
   "source": [
    "Оптимальный вариант для epsilon = 23"
   ]
  },
  {
   "cell_type": "code",
   "execution_count": 22,
   "metadata": {
    "collapsed": false
   },
   "outputs": [
    {
     "data": {
      "image/png": "[encoded data removed]",
      "text/plain": [
       "<matplotlib.figure.Figure at 0xdca10f0>"
      ]
     },
     "metadata": {},
     "output_type": "display_data"
    }
   ],
   "source": [
    "minsamples = np.arange(1, 35)\n",
    "results = []\n",
    "\n",
    "for min_sample in minsamples:\n",
    "    results.append(res(23, min_sample))\n",
    "results = np.array(results).T\n",
    "\n",
    "plt.plot(minsamples, results[0], label='AMIS')\n",
    "plt.plot(minsamples, results[1], label='ARS')\n",
    "plt.xlabel('minsamples')\n",
    "plt.ylabel('accuracy')\n",
    "plt.legend()\n",
    "plt.show()"
   ]
  },
  {
   "cell_type": "markdown",
   "metadata": {},
   "source": [
    "Оптимальный вариант для min_sample = 15"
   ]
  },
  {
   "cell_type": "code",
   "execution_count": 24,
   "metadata": {
    "collapsed": false
   },
   "outputs": [
    {
     "name": "stdout",
     "output_type": "stream",
     "text": [
      "Adjusted mutual score 0.702\n",
      "Adjusted rand score 0.482\n"
     ]
    }
   ],
   "source": [
    "db = DBSCAN(eps=23, min_samples=15).fit(X)\n",
    "print(\"Adjusted mutual score %0.3f\" % metrics.adjusted_mutual_info_score(y, db.labels_))\n",
    "print(\"Adjusted rand score %0.3f\" % metrics.adjusted_rand_score(y, db.labels_))\n",
    "\n",
    "core_points = db.core_sample_indices_\n",
    "noise_points = np.where(db.labels_ == -1)[0]"
   ]
  },
  {
   "cell_type": "code",
   "execution_count": 25,
   "metadata": {
    "collapsed": false
   },
   "outputs": [
    {
     "data": {
      "image/png": "[encoded data removed]",
      "text/plain": [
       "<matplotlib.figure.Figure at 0x99c5c50>"
      ]
     },
     "metadata": {},
     "output_type": "display_data"
    }
   ],
   "source": [
    "fig = plt.gcf()\n",
    "fig.set_size_inches(25, 5)\n",
    "for ind, Id in enumerate(core_points[:20]):\n",
    "    plt.subplot(1, 20, ind + 1)\n",
    "    image = X[Id].reshape((8,8))\n",
    "    plt.imshow(image)\n",
    "    \n",
    "# Ядра"
   ]
  },
  {
   "cell_type": "code",
   "execution_count": 26,
   "metadata": {
    "collapsed": false
   },
   "outputs": [
    {
     "data": {
      "image/png": "[encoded data removed]",
      "text/plain": [
       "<matplotlib.figure.Figure at 0x99c5198>"
      ]
     },
     "metadata": {},
     "output_type": "display_data"
    }
   ],
   "source": [
    "fig = plt.gcf()\n",
    "fig.set_size_inches(25, 5)\n",
    "for ind, Id in enumerate(noise_points[:20]):\n",
    "    plt.subplot(1, 20, ind + 1)\n",
    "    image = X[Id].reshape((8,8))\n",
    "    plt.imshow(image)\n",
    "    \n",
    "# Шум"
   ]
  },
  {
   "cell_type": "markdown",
   "metadata": {},
   "source": [
    "Вывод: алгоритм хорошо выделяет кластеры (в core_points все хорошо различимо)."
   ]
  },
  {
   "cell_type": "code",
   "execution_count": null,
   "metadata": {
    "collapsed": true
   },
   "outputs": [],
   "source": []
  }
 ],
 "metadata": {
  "anaconda-cloud": {},
  "kernelspec": {
   "display_name": "Python 2",
   "language": "python",
   "name": "python2"
  },
  "language_info": {
   "codemirror_mode": {
    "name": "ipython",
    "version": 2
   },
   "file_extension": ".py",
   "mimetype": "text/x-python",
   "name": "python",
   "nbconvert_exporter": "python",
   "pygments_lexer": "ipython2",
   "version": "2.7.13"
  }
 },
 "nbformat": 4,
 "nbformat_minor": 0
}
